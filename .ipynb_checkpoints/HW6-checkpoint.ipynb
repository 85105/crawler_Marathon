{
 "cells": [
  {
   "cell_type": "code",
   "execution_count": 14,
   "metadata": {
    "scrolled": false
   },
   "outputs": [
    {
     "data": {
      "text/plain": [
       "'<html>\\r\\n<head><title>400 Bad Request</title></head>\\r\\n<body bgcolor=\"white\">\\r\\n<center><h1>400 Bad Request</h1></center>\\r\\n<hr><center>openresty</center>\\r\\n</body>\\r\\n</html>\\r\\n'"
      ]
     },
     "execution_count": 14,
     "metadata": {},
     "output_type": "execute_result"
    }
   ],
   "source": [
    "import requests\n",
    "r = requests.get('https://www.zhihu.com/api/v4/questions/55493026/answers')\n",
    "response = r.text\n",
    "\n",
    "response"
   ]
  },
  {
   "cell_type": "markdown",
   "metadata": {},
   "source": [
    "## 隨機產生 useragent"
   ]
  },
  {
   "cell_type": "code",
   "execution_count": 16,
   "metadata": {
    "scrolled": true
   },
   "outputs": [
    {
     "name": "stdout",
     "output_type": "stream",
     "text": [
      "Mozilla/5.0 (Windows NT 6.2; WOW64) AppleWebKit/537.36 (KHTML, like Gecko) Chrome/29.0.1547.2 Safari/537.36\n",
      "*-----------------*\n",
      "Mozilla/5.0 (Windows NT 6.3; WOW64) AppleWebKit/537.36 (KHTML, like Gecko) Chrome/41.0.2226.0 Safari/537.36\n",
      "*-----------------*\n",
      "Mozilla/5.0 (X11; CrOS i686 4319.74.0) AppleWebKit/537.36 (KHTML, like Gecko) Chrome/29.0.1547.57 Safari/537.36\n",
      "*-----------------*\n",
      "Mozilla/5.0 (Windows NT 6.2; WOW64) AppleWebKit/537.36 (KHTML, like Gecko) Chrome/29.0.1547.2 Safari/537.36\n",
      "*-----------------*\n",
      "Mozilla/5.0 (Windows NT 6.1; WOW64) AppleWebKit/537.36 (KHTML, like Gecko) Chrome/27.0.1453.93 Safari/537.36\n",
      "*-----------------*\n"
     ]
    }
   ],
   "source": [
    "from fake_useragent import UserAgent\n",
    "ua = UserAgent()\n",
    "for i in range(5):\n",
    "    print(ua.random)\n",
    "    print('*-----------------*')"
   ]
  },
  {
   "cell_type": "code",
   "execution_count": 17,
   "metadata": {
    "scrolled": false
   },
   "outputs": [
    {
     "data": {
      "text/plain": [
       "'{\"data\":[{\"id\":637938925,\"type\":\"answer\",\"answer_type\":\"normal\",\"question\":{\"type\":\"question\",\"id\":55493026,\"title\":\"你们都是怎么学 Python 的？\",\"question_type\":\"normal\",\"created\":1486390229,\"updated_time\":1582533957,\"url\":\"https://www.zhihu.com/api/v4/questions/55493026\",\"relationship\":{}},\"author\":{\"id\":\"e8c4768eaa41e3749f7e8bc5ac6aa74b\",\"url_token\":\"Lanyuneet\",\"name\":\"Slumbers\",\"avatar_url\":\"https://pic2.zhimg.com/v2-f950cfef511d33500177be90030dcd3d_l.jpg?source=1940ef5c\",\"avatar_url_template\":\"https://pic4.zhimg.com/v2-f950cfef511d33500177be90030dcd3d.jpg?source=1940ef5c\",\"is_org\":false,\"type\":\"people\",\"url\":\"https://www.zhihu.com/api/v4/people/e8c4768eaa41e3749f7e8bc5ac6aa74b\",\"user_type\":\"people\",\"headline\":\"算法工程师\",\"badge\":[],\"badge_v2\":{\"title\":\"\",\"merged_badges\":[],\"detail_badges\":[],\"icon\":\"\",\"night_icon\":\"\"},\"gender\":0,\"is_advertiser\":false,\"is_privacy\":false},\"url\":\"https://www.zhihu.com/api/v4/answers/637938925\",\"is_collapsed\":false,\"created_time\":1554085028,\"updated_time\":1558451618,\"extras\":\"\",\"is_copyable\":true,\"relationship\":{\"upvoted_followees\":[]},\"ad_answer\":null},{\"id\":683070334,\"type\":\"answer\",\"answer_type\":\"normal\",\"question\":{\"type\":\"question\",\"id\":55493026,\"title\":\"你们都是怎么学 Python 的？\",\"question_type\":\"normal\",\"created\":1486390229,\"updated_time\":1582533957,\"url\":\"https://www.zhihu.com/api/v4/questions/55493026\",\"relationship\":{}},\"author\":{\"id\":\"36f69162230003d316d0b8a6d8da20ba\",\"url_token\":\"liang-zi-wei-48\",\"name\":\"量子位\",\"avatar_url\":\"https://pic2.zhimg.com/v2-ca6e7ffc10a0d10edbae635cee82d007_l.jpg?source=1940ef5c\",\"avatar_url_template\":\"https://pic2.zhimg.com/v2-ca6e7ffc10a0d10edbae635cee82d007.jpg?source=1940ef5c\",\"is_org\":true,\"type\":\"people\",\"url\":\"https://www.zhihu.com/api/v4/people/36f69162230003d316d0b8a6d8da20ba\",\"user_type\":\"organization\",\"headline\":\"有趣的AI\\\\u0026amp;前沿科技→_→ 公众号：QbitAI\",\"badge\":[{\"type\":\"identity\",\"description\":\"已认证的官方帐号\",\"topics\":[]},{\"type\":\"best_answerer\",\"description\":\"优秀回答者\",\"topics\":[]}],\"badge_v2\":{\"title\":\"数学等 5 个话题下的优秀回答者\",\"merged_badges\":[{\"type\":\"best\",\"detail_type\":\"best\",\"title\":\"优秀认证\",\"description\":\"数学等 5 个话题下的优秀回答者\",\"url\":\"https://www.zhihu.com/topic/20054793\",\"sources\":[{\"id\":\"19554091\",\"token\":\"19554091\",\"type\":\"topic\",\"url\":\"https://www.zhihu.com/topic/19554091\",\"name\":\"数学\",\"avatar_path\":\"v2-351d57389cf50b002a20606caac645cf\",\"avatar_url\":\"https://pic1.zhimg.com/v2-351d57389cf50b002a20606caac645cf_hd.jpg\",\"description\":\"\",\"priority\":0},{\"id\":\"19556664\",\"token\":\"19556664\",\"type\":\"topic\",\"url\":\"https://www.zhihu.com/topic/19556664\",\"name\":\"科技\",\"avatar_path\":\"6d7dc1d82127396331a952e93fda484e\",\"avatar_url\":\"https://pic1.zhimg.com/6d7dc1d82127396331a952e93fda484e_hd.jpg\",\"description\":\"\",\"priority\":0},{\"id\":\"19556895\",\"token\":\"19556895\",\"type\":\"topic\",\"url\":\"https://www.zhihu.com/topic/19556895\",\"name\":\"科研\",\"avatar_path\":\"v2-f94b3093434c09b4501b056d142025e0\",\"avatar_url\":\"https://pic1.zhimg.com/v2-f94b3093434c09b4501b056d142025e0_hd.jpg\",\"description\":\"\",\"priority\":0},{\"id\":\"19635352\",\"token\":\"19635352\",\"type\":\"topic\",\"url\":\"https://www.zhihu.com/topic/19635352\",\"name\":\"自动驾驶\",\"avatar_path\":\"v2-a4deab1b73004d7c3fda759c7942c53f\",\"avatar_url\":\"https://pic3.zhimg.com/v2-a4deab1b73004d7c3fda759c7942c53f_hd.jpg\",\"description\":\"\",\"priority\":0},{\"id\":\"19551275\",\"token\":\"19551275\",\"type\":\"topic\",\"url\":\"https://www.zhihu.com/topic/19551275\",\"name\":\"人工智能\",\"avatar_path\":\"v2-c41d10d22173d515740c43c70f885705\",\"avatar_url\":\"https://pic3.zhimg.com/v2-c41d10d22173d515740c43c70f885705_hd.jpg\",\"description\":\"\",\"priority\":0}],\"icon\":\"\",\"night_icon\":\"\"},{\"type\":\"identity\",\"detail_type\":\"identity\",\"title\":\"认证\",\"description\":\"已认证的官方帐号\",\"url\":\"https://www.zhihu.com/account/verification/intro\",\"sources\":[],\"icon\":\"\",\"night_icon\":\"\"}],\"detail_badges\":[{\"type\":\"best\",\"detail_type\":\"best_answerer\",\"title\":\"优秀回答者\",\"description\":\"数学等 5 个话题下的优秀回答者\",\"url\":\"https://www.zhihu.com/topic/20054793\",\"sources\":[{\"id\":\"19554091\",\"token\":\"19554091\",\"type\":\"topic\",\"url\":\"https://www.zhihu.com/topic/19554091\",\"name\":\"数学\",\"avatar_path\":\"v2-351d57389cf50b002a20606caac645cf\",\"avatar_url\":\"https://pic1.zhimg.com/v2-351d57389cf50b002a20606caac645cf_hd.jpg\",\"description\":\"\",\"priority\":0},{\"id\":\"19556664\",\"token\":\"19556664\",\"type\":\"topic\",\"url\":\"https://www.zhihu.com/topic/19556664\",\"name\":\"科技\",\"avatar_path\":\"6d7dc1d82127396331a952e93fda484e\",\"avatar_url\":\"https://pic1.zhimg.com/6d7dc1d82127396331a952e93fda484e_hd.jpg\",\"description\":\"\",\"priority\":0},{\"id\":\"19556895\",\"token\":\"19556895\",\"type\":\"topic\",\"url\":\"https://www.zhihu.com/topic/19556895\",\"name\":\"科研\",\"avatar_path\":\"v2-f94b3093434c09b4501b056d142025e0\",\"avatar_url\":\"https://pic1.zhimg.com/v2-f94b3093434c09b4501b056d142025e0_hd.jpg\",\"description\":\"\",\"priority\":0},{\"id\":\"19635352\",\"token\":\"19635352\",\"type\":\"topic\",\"url\":\"https://www.zhihu.com/topic/19635352\",\"name\":\"自动驾驶\",\"avatar_path\":\"v2-a4deab1b73004d7c3fda759c7942c53f\",\"avatar_url\":\"https://pic3.zhimg.com/v2-a4deab1b73004d7c3fda759c7942c53f_hd.jpg\",\"description\":\"\",\"priority\":0},{\"id\":\"19551275\",\"token\":\"19551275\",\"type\":\"topic\",\"url\":\"https://www.zhihu.com/topic/19551275\",\"name\":\"人工智能\",\"avatar_path\":\"v2-c41d10d22173d515740c43c70f885705\",\"avatar_url\":\"https://pic3.zhimg.com/v2-c41d10d22173d515740c43c70f885705_hd.jpg\",\"description\":\"\",\"priority\":0}],\"icon\":\"https://pic2.zhimg.com/v2-bf0eec3c31c8e866c468f60eb296696c_l.png\",\"night_icon\":\"https://pic3.zhimg.com/v2-c724649168d8f9d36d7c3d13140a2594_l.png\"},{\"type\":\"identity\",\"detail_type\":\"identity_org\",\"title\":\"已认证的官方帐号\",\"description\":\"已认证的官方帐号\",\"url\":\"https://www.zhihu.com/account/verification/intro\",\"sources\":[],\"icon\":\"https://pic3.zhimg.com/v2-235258cecb8a0f184c4d38483cd6f6b6_l.png\",\"night_icon\":\"https://pic1.zhimg.com/v2-45e870b8f0982bcd7537ea4627afbd00_l.png\"}],\"icon\":\"https://pic2.zhimg.com/v2-7a1a13d7531f29551f79278e9391b8ee_l.png\",\"night_icon\":\"https://pic1.zhimg.com/v2-af71f641951fd5f8b4a7d305288693df_l.png\"},\"gender\":-1,\"is_advertiser\":false,\"is_privacy\":false},\"url\":\"https://www.zhihu.com/api/v4/answers/683070334\",\"is_collapsed\":false,\"created_time\":1557824412,\"updated_time\":1557824412,\"extras\":\"\",\"is_copyable\":true,\"relationship\":{\"upvoted_followees\":[]},\"ad_answer\":null},{\"id\":1106818911,\"type\":\"answer\",\"answer_type\":\"paid\",\"question\":{\"type\":\"question\",\"id\":55493026,\"title\":\"你们都是怎么学 Python 的？\",\"question_type\":\"normal\",\"created\":1486390229,\"updated_time\":1582533957,\"url\":\"https://www.zhihu.com/api/v4/questions/55493026\",\"relationship\":{}},\"author\":{\"id\":\"1ab00059f301920f1dae9d92386937e6\",\"url_token\":\"zhi-hu-ke-tang\",\"name\":\"知乎课堂\",\"avatar_url\":\"https://pic2.zhimg.com/v2-e1b963abfa4c07d04d7b66bc482b1094_l.jpg?source=1940ef5c\",\"avatar_url_template\":\"https://pic1.zhimg.com/v2-e1b963abfa4c07d04d7b66bc482b1094.jpg?source=1940ef5c\",\"is_org\":true,\"type\":\"people\",\"url\":\"https://www.zhihu.com/api/v4/people/1ab00059f301920f1dae9d92386937e6\",\"user_type\":\"organization\",\"headline\":\"欢迎关注公众号：知乎职场圈，每天解锁一个新技能。\",\"badge\":[{\"type\":\"identity\",\"description\":\"已认证的官方帐号\",\"topics\":[]}],\"badge_v2\":{\"title\":\"已认证的官方帐号\",\"merged_badges\":[{\"type\":\"identity\",\"detail_type\":\"identity\",\"title\":\"认证\",\"description\":\"已认证的官方帐号\",\"url\":\"https://www.zhihu.com/account/verification/intro\",\"sources\":[],\"icon\":\"\",\"night_icon\":\"\"}],\"detail_badges\":[{\"type\":\"identity\",\"detail_type\":\"identity_org\",\"title\":\"已认证的官方帐号\",\"description\":\"已认证的官方帐号\",\"url\":\"https://www.zhihu.com/account/verification/intro\",\"sources\":[],\"icon\":\"https://pic1.zhimg.com/v2-235258cecb8a0f184c4d38483cd6f6b6_l.png\",\"night_icon\":\"https://pic3.zhimg.com/v2-45e870b8f0982bcd7537ea4627afbd00_l.png\"}],\"icon\":\"https://pic2.zhimg.com/v2-235258cecb8a0f184c4d38483cd6f6b6_l.png\",\"night_icon\":\"https://pic2.zhimg.com/v2-45e870b8f0982bcd7537ea4627afbd00_l.png\"},\"gender\":-1,\"is_advertiser\":true,\"is_privacy\":false},\"url\":\"https://www.zhihu.com/api/v4/answers/1106818911\",\"is_collapsed\":false,\"created_time\":1585227854,\"updated_time\":1585227854,\"extras\":\"\",\"is_copyable\":false,\"relationship\":{\"upvoted_followees\":[]},\"ad_answer\":null},{\"id\":163537026,\"type\":\"answer\",\"answer_type\":\"normal\",\"question\":{\"type\":\"question\",\"id\":55493026,\"title\":\"你们都是怎么学 Python 的？\",\"question_type\":\"normal\",\"created\":1486390229,\"updated_time\":1582533957,\"url\":\"https://www.zhihu.com/api/v4/questions/55493026\",\"relationship\":{}},\"author\":{\"id\":\"eaf435b228ce0b038a4afe8203f59b49\",\"url_token\":\"sgai\",\"name\":\"路人甲\",\"avatar_url\":\"https://pic1.zhimg.com/958a18f3216805bed269d158fb83325a_l.jpg?source=1940ef5c\",\"avatar_url_template\":\"https://pic3.zhimg.com/958a18f3216805bed269d158fb83325a.jpg?source=1940ef5c\",\"is_org\":false,\"type\":\"people\",\"url\":\"https://www.zhihu.com/api/v4/people/eaf435b228ce0b038a4afe8203f59b49\",\"user_type\":\"people\",\"headline\":\"微信公众号：路人甲TM，微信：904727147\",\"badge\":[],\"badge_v2\":{\"title\":\"\",\"merged_badges\":[],\"detail_badges\":[],\"icon\":\"\",\"night_icon\":\"\"},\"gender\":1,\"is_advertiser\":false,\"is_privacy\":false},\"url\":\"https://www.zhihu.com/api/v4/answers/163537026\",\"is_collapsed\":false,\"created_time\":1493693113,\"updated_time\":1579138388,\"extras\":\"\",\"is_copyable\":true,\"relationship\":{\"upvoted_followees\":[]},\"ad_answer\":null},{\"id\":873825546,\"type\":\"answer\",\"answer_type\":\"normal\",\"question\":{\"type\":\"question\",\"id\":55493026,\"title\":\"你们都是怎么学 Python 的？\",\"question_type\":\"normal\",\"created\":1486390229,\"updated_time\":1582533957,\"url\":\"https://www.zhihu.com/api/v4/questions/55493026\",\"relationship\":{}},\"author\":{\"id\":\"4d1c2c77bc7431c2a6006d154198e8b9\",\"url_token\":\"ji-de-yao-xing-fu\",\"name\":\"痴海\",\"avatar_url\":\"https://pic4.zhimg.com/v2-e8b4f9dff1e3c3170185584c925d388a_l.jpg?source=1940ef5c\",\"avatar_url_template\":\"https://pic2.zhimg.com/v2-e8b4f9dff1e3c3170185584c925d388a.jpg?source=1940ef5c\",\"is_org\":false,\"type\":\"people\",\"url\":\"https://www.zhihu.com/api/v4/people/4d1c2c77bc7431c2a6006d154198e8b9\",\"user_type\":\"people\",\"headline\":\"公众号痴海：每周一篇干货文\",\"badge\":[],\"badge_v2\":{\"title\":\"\",\"merged_badges\":[],\"detail_badges\":[],\"icon\":\"\",\"night_icon\":\"\"},\"gender\":1,\"is_advertiser\":false,\"is_privacy\":false},\"url\":\"https://www.zhihu.com/api/v4/answers/873825546\",\"is_collapsed\":false,\"created_time\":1572318426,\"updated_time\":1587220473,\"extras\":\"\",\"is_copyable\":false,\"relationship\":{\"upvoted_followees\":[]},\"ad_answer\":null}],\"paging\":{\"is_end\":false,\"is_start\":true,\"next\":\"https://www.zhihu.com/api/v4/questions/55493026/answers?limit=5\\\\u0026offset=5\",\"previous\":\"https://www.zhihu.com/api/v4/questions/55493026/answers?limit=5\\\\u0026offset=0\",\"totals\":617}}\\n'"
      ]
     },
     "execution_count": 17,
     "metadata": {},
     "output_type": "execute_result"
    }
   ],
   "source": [
    "import requests\n",
    "headers = {'user-agent': ua.random}\n",
    "r = requests.get('https://www.zhihu.com/api/v4/questions/55493026/answers',headers=headers)\n",
    "response = r.text\n",
    "\n",
    "response"
   ]
  },
  {
   "cell_type": "code",
   "execution_count": 11,
   "metadata": {},
   "outputs": [
    {
     "name": "stdout",
     "output_type": "stream",
     "text": [
      "{'id': 637938925, 'type': 'answer', 'answer_type': 'normal', 'question': {'type': 'question', 'id': 55493026, 'title': '你们都是怎么学 Python 的？', 'question_type': 'normal', 'created': 1486390229, 'updated_time': 1582533957, 'url': 'https://www.zhihu.com/api/v4/questions/55493026', 'relationship': {}}, 'author': {'id': 'e8c4768eaa41e3749f7e8bc5ac6aa74b', 'url_token': 'Lanyuneet', 'name': 'Slumbers', 'avatar_url': 'https://pic1.zhimg.com/v2-f950cfef511d33500177be90030dcd3d_l.jpg?source=1940ef5c', 'avatar_url_template': 'https://pic3.zhimg.com/v2-f950cfef511d33500177be90030dcd3d.jpg?source=1940ef5c', 'is_org': False, 'type': 'people', 'url': 'https://www.zhihu.com/api/v4/people/e8c4768eaa41e3749f7e8bc5ac6aa74b', 'user_type': 'people', 'headline': '算法工程师', 'badge': [], 'badge_v2': {'title': '', 'merged_badges': [], 'detail_badges': [], 'icon': '', 'night_icon': ''}, 'gender': 0, 'is_advertiser': False, 'is_privacy': False}, 'url': 'https://www.zhihu.com/api/v4/answers/637938925', 'is_collapsed': False, 'created_time': 1554085028, 'updated_time': 1558451618, 'extras': '', 'is_copyable': True, 'relationship': {'upvoted_followees': []}, 'ad_answer': None}\n",
      "{'id': 683070334, 'type': 'answer', 'answer_type': 'normal', 'question': {'type': 'question', 'id': 55493026, 'title': '你们都是怎么学 Python 的？', 'question_type': 'normal', 'created': 1486390229, 'updated_time': 1582533957, 'url': 'https://www.zhihu.com/api/v4/questions/55493026', 'relationship': {}}, 'author': {'id': '36f69162230003d316d0b8a6d8da20ba', 'url_token': 'liang-zi-wei-48', 'name': '量子位', 'avatar_url': 'https://pic4.zhimg.com/v2-ca6e7ffc10a0d10edbae635cee82d007_l.jpg?source=1940ef5c', 'avatar_url_template': 'https://pic2.zhimg.com/v2-ca6e7ffc10a0d10edbae635cee82d007.jpg?source=1940ef5c', 'is_org': True, 'type': 'people', 'url': 'https://www.zhihu.com/api/v4/people/36f69162230003d316d0b8a6d8da20ba', 'user_type': 'organization', 'headline': '有趣的AI&amp;前沿科技→_→ 公众号：QbitAI', 'badge': [{'type': 'identity', 'description': '已认证的官方帐号', 'topics': []}, {'type': 'best_answerer', 'description': '优秀回答者', 'topics': []}], 'badge_v2': {'title': '数学等 5 个话题下的优秀回答者', 'merged_badges': [{'type': 'best', 'detail_type': 'best', 'title': '优秀认证', 'description': '数学等 5 个话题下的优秀回答者', 'url': 'https://www.zhihu.com/topic/20054793', 'sources': [{'id': '19554091', 'token': '19554091', 'type': 'topic', 'url': 'https://www.zhihu.com/topic/19554091', 'name': '数学', 'avatar_path': 'v2-351d57389cf50b002a20606caac645cf', 'avatar_url': 'https://pic3.zhimg.com/v2-351d57389cf50b002a20606caac645cf_hd.jpg', 'description': '', 'priority': 0}, {'id': '19556664', 'token': '19556664', 'type': 'topic', 'url': 'https://www.zhihu.com/topic/19556664', 'name': '科技', 'avatar_path': '6d7dc1d82127396331a952e93fda484e', 'avatar_url': 'https://pic4.zhimg.com/6d7dc1d82127396331a952e93fda484e_hd.jpg', 'description': '', 'priority': 0}, {'id': '19556895', 'token': '19556895', 'type': 'topic', 'url': 'https://www.zhihu.com/topic/19556895', 'name': '科研', 'avatar_path': 'v2-f94b3093434c09b4501b056d142025e0', 'avatar_url': 'https://pic3.zhimg.com/v2-f94b3093434c09b4501b056d142025e0_hd.jpg', 'description': '', 'priority': 0}, {'id': '19635352', 'token': '19635352', 'type': 'topic', 'url': 'https://www.zhihu.com/topic/19635352', 'name': '自动驾驶', 'avatar_path': 'v2-a4deab1b73004d7c3fda759c7942c53f', 'avatar_url': 'https://pic4.zhimg.com/v2-a4deab1b73004d7c3fda759c7942c53f_hd.jpg', 'description': '', 'priority': 0}, {'id': '19551275', 'token': '19551275', 'type': 'topic', 'url': 'https://www.zhihu.com/topic/19551275', 'name': '人工智能', 'avatar_path': 'v2-c41d10d22173d515740c43c70f885705', 'avatar_url': 'https://pic2.zhimg.com/v2-c41d10d22173d515740c43c70f885705_hd.jpg', 'description': '', 'priority': 0}], 'icon': '', 'night_icon': ''}, {'type': 'identity', 'detail_type': 'identity', 'title': '认证', 'description': '已认证的官方帐号', 'url': 'https://www.zhihu.com/account/verification/intro', 'sources': [], 'icon': '', 'night_icon': ''}], 'detail_badges': [{'type': 'best', 'detail_type': 'best_answerer', 'title': '优秀回答者', 'description': '数学等 5 个话题下的优秀回答者', 'url': 'https://www.zhihu.com/topic/20054793', 'sources': [{'id': '19554091', 'token': '19554091', 'type': 'topic', 'url': 'https://www.zhihu.com/topic/19554091', 'name': '数学', 'avatar_path': 'v2-351d57389cf50b002a20606caac645cf', 'avatar_url': 'https://pic3.zhimg.com/v2-351d57389cf50b002a20606caac645cf_hd.jpg', 'description': '', 'priority': 0}, {'id': '19556664', 'token': '19556664', 'type': 'topic', 'url': 'https://www.zhihu.com/topic/19556664', 'name': '科技', 'avatar_path': '6d7dc1d82127396331a952e93fda484e', 'avatar_url': 'https://pic4.zhimg.com/6d7dc1d82127396331a952e93fda484e_hd.jpg', 'description': '', 'priority': 0}, {'id': '19556895', 'token': '19556895', 'type': 'topic', 'url': 'https://www.zhihu.com/topic/19556895', 'name': '科研', 'avatar_path': 'v2-f94b3093434c09b4501b056d142025e0', 'avatar_url': 'https://pic3.zhimg.com/v2-f94b3093434c09b4501b056d142025e0_hd.jpg', 'description': '', 'priority': 0}, {'id': '19635352', 'token': '19635352', 'type': 'topic', 'url': 'https://www.zhihu.com/topic/19635352', 'name': '自动驾驶', 'avatar_path': 'v2-a4deab1b73004d7c3fda759c7942c53f', 'avatar_url': 'https://pic4.zhimg.com/v2-a4deab1b73004d7c3fda759c7942c53f_hd.jpg', 'description': '', 'priority': 0}, {'id': '19551275', 'token': '19551275', 'type': 'topic', 'url': 'https://www.zhihu.com/topic/19551275', 'name': '人工智能', 'avatar_path': 'v2-c41d10d22173d515740c43c70f885705', 'avatar_url': 'https://pic2.zhimg.com/v2-c41d10d22173d515740c43c70f885705_hd.jpg', 'description': '', 'priority': 0}], 'icon': 'https://pic2.zhimg.com/v2-bf0eec3c31c8e866c468f60eb296696c_l.png', 'night_icon': 'https://pic2.zhimg.com/v2-c724649168d8f9d36d7c3d13140a2594_l.png'}, {'type': 'identity', 'detail_type': 'identity_org', 'title': '已认证的官方帐号', 'description': '已认证的官方帐号', 'url': 'https://www.zhihu.com/account/verification/intro', 'sources': [], 'icon': 'https://pic2.zhimg.com/v2-235258cecb8a0f184c4d38483cd6f6b6_l.png', 'night_icon': 'https://pic4.zhimg.com/v2-45e870b8f0982bcd7537ea4627afbd00_l.png'}], 'icon': 'https://pic3.zhimg.com/v2-7a1a13d7531f29551f79278e9391b8ee_l.png', 'night_icon': 'https://pic3.zhimg.com/v2-af71f641951fd5f8b4a7d305288693df_l.png'}, 'gender': -1, 'is_advertiser': False, 'is_privacy': False}, 'url': 'https://www.zhihu.com/api/v4/answers/683070334', 'is_collapsed': False, 'created_time': 1557824412, 'updated_time': 1557824412, 'extras': '', 'is_copyable': True, 'relationship': {'upvoted_followees': []}, 'ad_answer': None}\n",
      "{'id': 1106818911, 'type': 'answer', 'answer_type': 'paid', 'question': {'type': 'question', 'id': 55493026, 'title': '你们都是怎么学 Python 的？', 'question_type': 'normal', 'created': 1486390229, 'updated_time': 1582533957, 'url': 'https://www.zhihu.com/api/v4/questions/55493026', 'relationship': {}}, 'author': {'id': '1ab00059f301920f1dae9d92386937e6', 'url_token': 'zhi-hu-ke-tang', 'name': '知乎课堂', 'avatar_url': 'https://pic1.zhimg.com/v2-e1b963abfa4c07d04d7b66bc482b1094_l.jpg?source=1940ef5c', 'avatar_url_template': 'https://pic3.zhimg.com/v2-e1b963abfa4c07d04d7b66bc482b1094.jpg?source=1940ef5c', 'is_org': True, 'type': 'people', 'url': 'https://www.zhihu.com/api/v4/people/1ab00059f301920f1dae9d92386937e6', 'user_type': 'organization', 'headline': '欢迎关注公众号：知乎职场圈，每天解锁一个新技能。', 'badge': [{'type': 'identity', 'description': '已认证的官方帐号', 'topics': []}], 'badge_v2': {'title': '已认证的官方帐号', 'merged_badges': [{'type': 'identity', 'detail_type': 'identity', 'title': '认证', 'description': '已认证的官方帐号', 'url': 'https://www.zhihu.com/account/verification/intro', 'sources': [], 'icon': '', 'night_icon': ''}], 'detail_badges': [{'type': 'identity', 'detail_type': 'identity_org', 'title': '已认证的官方帐号', 'description': '已认证的官方帐号', 'url': 'https://www.zhihu.com/account/verification/intro', 'sources': [], 'icon': 'https://pic1.zhimg.com/v2-235258cecb8a0f184c4d38483cd6f6b6_l.png', 'night_icon': 'https://pic1.zhimg.com/v2-45e870b8f0982bcd7537ea4627afbd00_l.png'}], 'icon': 'https://pic4.zhimg.com/v2-235258cecb8a0f184c4d38483cd6f6b6_l.png', 'night_icon': 'https://pic3.zhimg.com/v2-45e870b8f0982bcd7537ea4627afbd00_l.png'}, 'gender': -1, 'is_advertiser': True, 'is_privacy': False}, 'url': 'https://www.zhihu.com/api/v4/answers/1106818911', 'is_collapsed': False, 'created_time': 1585227854, 'updated_time': 1585227854, 'extras': '', 'is_copyable': False, 'relationship': {'upvoted_followees': []}, 'ad_answer': None}\n",
      "{'id': 163537026, 'type': 'answer', 'answer_type': 'normal', 'question': {'type': 'question', 'id': 55493026, 'title': '你们都是怎么学 Python 的？', 'question_type': 'normal', 'created': 1486390229, 'updated_time': 1582533957, 'url': 'https://www.zhihu.com/api/v4/questions/55493026', 'relationship': {}}, 'author': {'id': 'eaf435b228ce0b038a4afe8203f59b49', 'url_token': 'sgai', 'name': '路人甲', 'avatar_url': 'https://pic4.zhimg.com/958a18f3216805bed269d158fb83325a_l.jpg?source=1940ef5c', 'avatar_url_template': 'https://picb.zhimg.com/958a18f3216805bed269d158fb83325a.jpg?source=1940ef5c', 'is_org': False, 'type': 'people', 'url': 'https://www.zhihu.com/api/v4/people/eaf435b228ce0b038a4afe8203f59b49', 'user_type': 'people', 'headline': '微信公众号：路人甲TM，微信：904727147', 'badge': [], 'badge_v2': {'title': '', 'merged_badges': [], 'detail_badges': [], 'icon': '', 'night_icon': ''}, 'gender': 1, 'is_advertiser': False, 'is_privacy': False}, 'url': 'https://www.zhihu.com/api/v4/answers/163537026', 'is_collapsed': False, 'created_time': 1493693113, 'updated_time': 1579138388, 'extras': '', 'is_copyable': True, 'relationship': {'upvoted_followees': []}, 'ad_answer': None}\n",
      "{'id': 873825546, 'type': 'answer', 'answer_type': 'normal', 'question': {'type': 'question', 'id': 55493026, 'title': '你们都是怎么学 Python 的？', 'question_type': 'normal', 'created': 1486390229, 'updated_time': 1582533957, 'url': 'https://www.zhihu.com/api/v4/questions/55493026', 'relationship': {}}, 'author': {'id': '4d1c2c77bc7431c2a6006d154198e8b9', 'url_token': 'ji-de-yao-xing-fu', 'name': '痴海', 'avatar_url': 'https://pic1.zhimg.com/v2-e8b4f9dff1e3c3170185584c925d388a_l.jpg?source=1940ef5c', 'avatar_url_template': 'https://pic1.zhimg.com/v2-e8b4f9dff1e3c3170185584c925d388a.jpg?source=1940ef5c', 'is_org': False, 'type': 'people', 'url': 'https://www.zhihu.com/api/v4/people/4d1c2c77bc7431c2a6006d154198e8b9', 'user_type': 'people', 'headline': '公众号痴海：每周一篇干货文', 'badge': [], 'badge_v2': {'title': '', 'merged_badges': [], 'detail_badges': [], 'icon': '', 'night_icon': ''}, 'gender': 1, 'is_advertiser': False, 'is_privacy': False}, 'url': 'https://www.zhihu.com/api/v4/answers/873825546', 'is_collapsed': False, 'created_time': 1572318426, 'updated_time': 1587220473, 'extras': '', 'is_copyable': False, 'relationship': {'upvoted_followees': []}, 'ad_answer': None}\n"
     ]
    }
   ],
   "source": [
    "import json\n",
    "data = json.loads(response)\n",
    "\n",
    "for d in data['data']:\n",
    "    print(d)"
   ]
  },
  {
   "cell_type": "markdown",
   "metadata": {},
   "source": [
    "# HW"
   ]
  },
  {
   "cell_type": "markdown",
   "metadata": {},
   "source": [
    "#### 1. 取出知乎問題發問時間"
   ]
  },
  {
   "cell_type": "code",
   "execution_count": 20,
   "metadata": {},
   "outputs": [
    {
     "name": "stdout",
     "output_type": "stream",
     "text": [
      "發問時間 1486390229\n",
      "發問時間 1486390229\n",
      "發問時間 1486390229\n",
      "發問時間 1486390229\n",
      "發問時間 1486390229\n"
     ]
    }
   ],
   "source": [
    "import json\n",
    "data = json.loads(response)\n",
    "\n",
    "for d in data['data']:\n",
    "    print('發問時間',d['question']['created'] )"
   ]
  },
  {
   "cell_type": "markdown",
   "metadata": {},
   "source": [
    "#### 2. 取出第一筆與最後一筆回答的時間"
   ]
  },
  {
   "cell_type": "code",
   "execution_count": 35,
   "metadata": {},
   "outputs": [
    {
     "name": "stdout",
     "output_type": "stream",
     "text": [
      "發問時間 1486390229\n",
      "發問時間 1486390229\n"
     ]
    }
   ],
   "source": [
    "import json\n",
    "data = json.loads(response)\n",
    "\n",
    "for d in data['data']:\n",
    "    if(d==data['data'][0] or d==data['data'][(len(data['data']))-1]):\n",
    "        print('發問時間',d['question']['created'] )\n",
    "    "
   ]
  },
  {
   "cell_type": "markdown",
   "metadata": {},
   "source": []
  },
  {
   "cell_type": "code",
   "execution_count": null,
   "metadata": {},
   "outputs": [],
   "source": []
  },
  {
   "cell_type": "markdown",
   "metadata": {},
   "source": [
    "## 訂正"
   ]
  },
  {
   "cell_type": "code",
   "execution_count": 38,
   "metadata": {},
   "outputs": [
    {
     "name": "stdout",
     "output_type": "stream",
     "text": [
      "發問時間 1486390229\n",
      "2017-02-06 22:10:29\n",
      "發問時間 1486390229\n",
      "2017-02-06 22:10:29\n",
      "發問時間 1486390229\n",
      "2017-02-06 22:10:29\n",
      "發問時間 1486390229\n",
      "2017-02-06 22:10:29\n",
      "發問時間 1486390229\n",
      "2017-02-06 22:10:29\n"
     ]
    },
    {
     "ename": "NameError",
     "evalue": "name 'row' is not defined",
     "output_type": "error",
     "traceback": [
      "\u001b[1;31m---------------------------------------------------------------------------\u001b[0m",
      "\u001b[1;31mNameError\u001b[0m                                 Traceback (most recent call last)",
      "\u001b[1;32m<ipython-input-38-c529c4fb735b>\u001b[0m in \u001b[0;36m<module>\u001b[1;34m\u001b[0m\n\u001b[0;32m      7\u001b[0m     \u001b[0mprint\u001b[0m\u001b[1;33m(\u001b[0m\u001b[1;34m'發問時間'\u001b[0m\u001b[1;33m,\u001b[0m\u001b[0md\u001b[0m\u001b[1;33m[\u001b[0m\u001b[1;34m'question'\u001b[0m\u001b[1;33m]\u001b[0m\u001b[1;33m[\u001b[0m\u001b[1;34m'created'\u001b[0m\u001b[1;33m]\u001b[0m \u001b[1;33m)\u001b[0m\u001b[1;33m\u001b[0m\u001b[1;33m\u001b[0m\u001b[0m\n\u001b[0;32m      8\u001b[0m     \u001b[0mprint\u001b[0m\u001b[1;33m(\u001b[0m\u001b[0mdatetime\u001b[0m\u001b[1;33m.\u001b[0m\u001b[0mfromtimestamp\u001b[0m\u001b[1;33m(\u001b[0m\u001b[0md\u001b[0m\u001b[1;33m[\u001b[0m\u001b[1;34m'question'\u001b[0m\u001b[1;33m]\u001b[0m\u001b[1;33m[\u001b[0m\u001b[1;34m'created'\u001b[0m\u001b[1;33m]\u001b[0m\u001b[1;33m)\u001b[0m\u001b[1;33m)\u001b[0m\u001b[1;33m\u001b[0m\u001b[1;33m\u001b[0m\u001b[0m\n\u001b[1;32m----> 9\u001b[1;33m \u001b[0mprint\u001b[0m\u001b[1;33m(\u001b[0m\u001b[0mrow\u001b[0m\u001b[1;33m[\u001b[0m\u001b[1;34m'created_time'\u001b[0m\u001b[1;33m]\u001b[0m\u001b[1;33m)\u001b[0m\u001b[1;33m\u001b[0m\u001b[1;33m\u001b[0m\u001b[0m\n\u001b[0m",
      "\u001b[1;31mNameError\u001b[0m: name 'row' is not defined"
     ]
    }
   ],
   "source": [
    "#補充: Timestamp 轉成 時間\n",
    "from datetime import datetime\n",
    "import json\n",
    "data = json.loads(response)\n",
    "\n",
    "for d in data['data']:\n",
    "    print('發問時間',d['question']['created'] )\n",
    "    print(datetime.fromtimestamp(d['question']['created']))"
   ]
  },
  {
   "cell_type": "markdown",
   "metadata": {},
   "source": [
    "#### 找最後一筆資料"
   ]
  },
  {
   "cell_type": "code",
   "execution_count": 45,
   "metadata": {},
   "outputs": [
    {
     "name": "stdout",
     "output_type": "stream",
     "text": [
      "2019-04-01 10:17:08\n",
      "2020-03-26 21:04:14\n"
     ]
    }
   ],
   "source": [
    "#補充: Timestamp 轉成 時間\n",
    "from datetime import datetime\n",
    "import json\n",
    "data = json.loads(response)\n",
    "firt_time = data['data'][0]['created_time']\n",
    "\n",
    "latest = 0\n",
    "for d in data['data']:\n",
    "    if(d['created_time']>latest):\n",
    "        latest = d['created_time']\n",
    "print(datetime.fromtimestamp(firt_time))        \n",
    "print(datetime.fromtimestamp(latest)) \n",
    "        "
   ]
  },
  {
   "cell_type": "code",
   "execution_count": null,
   "metadata": {},
   "outputs": [],
   "source": []
  }
 ],
 "metadata": {
  "kernelspec": {
   "display_name": "Python 3",
   "language": "python",
   "name": "python3"
  },
  "language_info": {
   "codemirror_mode": {
    "name": "ipython",
    "version": 3
   },
   "file_extension": ".py",
   "mimetype": "text/x-python",
   "name": "python",
   "nbconvert_exporter": "python",
   "pygments_lexer": "ipython3",
   "version": "3.7.6"
  }
 },
 "nbformat": 4,
 "nbformat_minor": 4
}
