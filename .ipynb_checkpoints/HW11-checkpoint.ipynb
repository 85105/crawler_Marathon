{
 "cells": [
  {
   "cell_type": "code",
   "execution_count": 1,
   "metadata": {},
   "outputs": [],
   "source": [
    "import re "
   ]
  },
  {
   "cell_type": "code",
   "execution_count": 17,
   "metadata": {},
   "outputs": [],
   "source": [
    "def RegexMatchingTest(regex, input_text):\n",
    "    #將正規表達式轉換成pattern\n",
    "    pattern = re.compile(regex)\n",
    "    # pattern = re.compile(regex, flags=re.IGNORECASE)  #若要忽略大小寫，在編譯時加上flags=re.IGNORECASE\n",
    "    \n",
    "    # 帶入編譯後的pattern，來測試是否匹配\n",
    "    # 這裡也可以用match()、split()、findall()、sub()等其他函數來測試匹配\n",
    "    result = re.search(pattern, input_text)\n",
    "\n",
    "    if result:\n",
    "        # 匹配完的結果會儲存在group()的屬性中，我們可以把匹配的結果列印出來\n",
    "        print(\"Matched: %s\" % (result.group()))\n",
    "        \n",
    "        if result.lastindex is not None:\n",
    "            # group(0)代表整個字串，group(1)、group(2)...代表分組中，匹配的內容\n",
    "            for i in range(0, result.lastindex+1):\n",
    "                print(\"  group(%d): %s\" % (i, result.group(i)))\n",
    "                print(result.lastindex)\n",
    "    else:\n",
    "        print(\"Not matched.\")"
   ]
  },
  {
   "cell_type": "markdown",
   "metadata": {},
   "source": [
    "# 範例1:使用「\\w」匹配字母，「\\d」匹配數字，「\\s」匹配空白"
   ]
  },
  {
   "cell_type": "code",
   "execution_count": 19,
   "metadata": {},
   "outputs": [
    {
     "name": "stdout",
     "output_type": "stream",
     "text": [
      "Matched: My plate number is XYZ-1234\n"
     ]
    }
   ],
   "source": [
    "test_string = \"My plate number is XYZ-1234.\"\n",
    "regex = 'My plate number is \\w\\w\\w-\\d\\d\\d\\d'\n",
    "RegexMatchingTest(regex, test_string)"
   ]
  },
  {
   "cell_type": "code",
   "execution_count": 20,
   "metadata": {},
   "outputs": [
    {
     "name": "stdout",
     "output_type": "stream",
     "text": [
      "Matched: My phone number is 0912-345 678\n"
     ]
    }
   ],
   "source": [
    "test_string = \"My phone number is 0912-345 678.\"\n",
    "regex = 'My phone number is \\d\\d\\d\\d-\\d\\d\\d\\s\\d\\d\\d'\n",
    "RegexMatchingTest(regex, test_string)\n"
   ]
  },
  {
   "cell_type": "code",
   "execution_count": 21,
   "metadata": {},
   "outputs": [
    {
     "name": "stdout",
     "output_type": "stream",
     "text": [
      "Matched: My phone number is 0912-345 678\n"
     ]
    }
   ],
   "source": [
    "#利用量詞{n,m}來簡化寫法\n",
    "test_string = \"My phone number is 0912-345 678.\"\n",
    "regex = 'My phone number is \\d{4}-\\d{3}\\s{1}\\d{3}'\n",
    "RegexMatchingTest(regex, test_string)"
   ]
  },
  {
   "cell_type": "code",
   "execution_count": 22,
   "metadata": {},
   "outputs": [
    {
     "name": "stdout",
     "output_type": "stream",
     "text": [
      "Matched: My phone number is 0912-345 678\n"
     ]
    }
   ],
   "source": [
    "# 更偷懶的寫法，用「.」來代表任何字元\n",
    "test_string = \"My phone number is 0912-345 678.\"\n",
    "regex = 'My phone number is .{4}-.{3}.{1}.{3}'\n",
    "RegexMatchingTest(regex, test_string)"
   ]
  },
  {
   "cell_type": "code",
   "execution_count": null,
   "metadata": {},
   "outputs": [],
   "source": []
  },
  {
   "cell_type": "markdown",
   "metadata": {},
   "source": [
    "# 範例2:使用[...]匹配在[ ]裡面所列出的字元\n"
   ]
  },
  {
   "cell_type": "code",
   "execution_count": 23,
   "metadata": {},
   "outputs": [
    {
     "name": "stdout",
     "output_type": "stream",
     "text": [
      "Matched: I love d\n"
     ]
    }
   ],
   "source": [
    "test_string = \"I love dogs.\"\n",
    "regex = 'I love [acdgnost]'\n",
    "RegexMatchingTest(regex, test_string)"
   ]
  },
  {
   "cell_type": "code",
   "execution_count": 24,
   "metadata": {},
   "outputs": [
    {
     "name": "stdout",
     "output_type": "stream",
     "text": [
      "Matched: I love c\n"
     ]
    }
   ],
   "source": [
    "test_string = \"I love cats.\"\n",
    "regex = 'I love [acdgnost]'\n",
    "RegexMatchingTest(regex, test_string)"
   ]
  },
  {
   "cell_type": "code",
   "execution_count": 25,
   "metadata": {},
   "outputs": [
    {
     "name": "stdout",
     "output_type": "stream",
     "text": [
      "Matched: I love dogs\n"
     ]
    }
   ],
   "source": [
    "test_string = \"I love dogs.\"\n",
    "regex = 'I love [acdgnost]+'\n",
    "RegexMatchingTest(regex, test_string)"
   ]
  },
  {
   "cell_type": "code",
   "execution_count": 26,
   "metadata": {},
   "outputs": [
    {
     "name": "stdout",
     "output_type": "stream",
     "text": [
      "Not matched.\n"
     ]
    }
   ],
   "source": [
    "test_string = \"I love people.\"\n",
    "regex = 'I love [acdgnost]+'\n",
    "RegexMatchingTest(regex, test_string)\n",
    "# people裡面只有'p'、'e'、'o'、'l'等字元，無法滿足[acdgnost]裡面所列出的條件"
   ]
  },
  {
   "cell_type": "code",
   "execution_count": null,
   "metadata": {},
   "outputs": [],
   "source": []
  },
  {
   "cell_type": "markdown",
   "metadata": {},
   "source": [
    "# 範例3:分組及捕捉"
   ]
  },
  {
   "cell_type": "code",
   "execution_count": 27,
   "metadata": {},
   "outputs": [
    {
     "name": "stdout",
     "output_type": "stream",
     "text": [
      "Matched: I like baseball sport\n",
      "  group(0): I like baseball sport\n",
      "1\n",
      "  group(1): baseball\n",
      "1\n"
     ]
    }
   ],
   "source": [
    "test_string = \"I like baseball sport.\"\n",
    "regex = 'I like (hiking|baseball) sport'\n",
    "RegexMatchingTest(regex, test_string)"
   ]
  },
  {
   "cell_type": "code",
   "execution_count": 28,
   "metadata": {},
   "outputs": [
    {
     "name": "stdout",
     "output_type": "stream",
     "text": [
      "Matched: I like hiking sport\n",
      "  group(0): I like hiking sport\n",
      "1\n",
      "  group(1): hiking\n",
      "1\n"
     ]
    }
   ],
   "source": [
    "test_string = \"I like hiking sport.\"\n",
    "regex = 'I like (hiking|basketball) sport'\n",
    "RegexMatchingTest(regex, test_string)"
   ]
  },
  {
   "cell_type": "code",
   "execution_count": null,
   "metadata": {},
   "outputs": [],
   "source": []
  },
  {
   "cell_type": "markdown",
   "metadata": {},
   "source": [
    "# 範例4:使用跳脫符號「\\」"
   ]
  },
  {
   "cell_type": "code",
   "execution_count": 13,
   "metadata": {},
   "outputs": [
    {
     "name": "stdout",
     "output_type": "stream",
     "text": [
      "Matched: Please call number (02)2882-5252\n"
     ]
    }
   ],
   "source": [
    "test_string = \"Please call number (02)2882-5252.\"\n",
    "regex = 'Please call number \\([0-9]{2}\\)[0-9]{4}-[0-9]{4}'  #用「\\(」來匹配左括號\"(\"，用「\\)」來匹配右括號\")\"\n",
    "RegexMatchingTest(regex, test_string)"
   ]
  },
  {
   "cell_type": "code",
   "execution_count": null,
   "metadata": {},
   "outputs": [],
   "source": []
  },
  {
   "cell_type": "markdown",
   "metadata": {},
   "source": [
    "# 範例5:比對中文字"
   ]
  },
  {
   "cell_type": "code",
   "execution_count": 14,
   "metadata": {},
   "outputs": [
    {
     "name": "stdout",
     "output_type": "stream",
     "text": [
      "Matched: 中文字\n"
     ]
    }
   ],
   "source": [
    "test_string = \"Here are 中文字 and English\"  #中英夾雜的句子\n",
    "regex = '[\\u4e00-\\u9fa5]+'                  #中文的UNICODE，範圍是0x4E00 ~ 0x9FA5\n",
    "RegexMatchingTest(regex, test_string)"
   ]
  },
  {
   "cell_type": "code",
   "execution_count": null,
   "metadata": {},
   "outputs": [],
   "source": []
  },
  {
   "cell_type": "code",
   "execution_count": null,
   "metadata": {},
   "outputs": [],
   "source": []
  },
  {
   "cell_type": "markdown",
   "metadata": {},
   "source": [
    "# HW\n",
    "## 正規表達式常常用來過濾以及搜尋特定的pattern字串。"
   ]
  },
  {
   "cell_type": "markdown",
   "metadata": {},
   "source": [
    "## 用正規表達式過濾IP address。"
   ]
  },
  {
   "cell_type": "code",
   "execution_count": 15,
   "metadata": {},
   "outputs": [],
   "source": [
    "import re\n",
    "# 定義一個函數，用來測試是否能匹配正規表達式\n",
    "def RegexMatchingTest(regex, input_text):\n",
    "    #將正規表達式轉換成pattern\n",
    "    pattern = re.compile(regex)\n",
    "    \n",
    "    # 使轉換後的pattern，來測試是否匹配\n",
    "    result = re.search(pattern, input_text)\n",
    "\n",
    "    if result:\n",
    "        # 匹配完的結果會儲存在group()的屬性中，我們可以把匹配的結果列印出來\n",
    "        print(\"Matched: %s\" % (result.group()))\n",
    "        \n",
    "        if result.lastindex is not None:\n",
    "            # group(0)代表整個字串，group(1)、group(2)...代表分組中，匹配的內容\n",
    "            for i in range(0, result.lastindex+1):\n",
    "                print(\"  group(%d): %s\" % (i, result.group(i)))\n",
    "    else:\n",
    "        print(\"Not matched.\")"
   ]
  },
  {
   "cell_type": "code",
   "execution_count": 16,
   "metadata": {},
   "outputs": [
    {
     "name": "stdout",
     "output_type": "stream",
     "text": [
      "Matched: 216.58.200.227\n",
      "  group(0): 216.58.200.227\n",
      "  group(1): 216\n",
      "  group(2): 58\n",
      "  group(3): 200\n",
      "  group(4): 227\n"
     ]
    }
   ],
   "source": [
    "test_string = \"Google IP address is 216.58.200.227\"\n",
    "\n",
    "# 過濾IP address的regex pattern\n",
    "regex = '(\\d{1,3}).(\\d{1,3}).(\\d{1,3}).(\\d{1,3})'\n",
    "RegexMatchingTest(regex, test_string)"
   ]
  },
  {
   "cell_type": "code",
   "execution_count": 34,
   "metadata": {},
   "outputs": [
    {
     "name": "stdout",
     "output_type": "stream",
     "text": [
      "Not matched.\n",
      "Not matched.\n"
     ]
    }
   ],
   "source": [
    "regex = '(\\d[0-255]{1,3}).(\\d[0-255]{1,3}).(\\d[0-255]{1,3}).(\\d[0-255]{1,3})'\n",
    "\n",
    "test_string1 = \"Test IP 216.58.200.227\"\n",
    "RegexMatchingTest(regex, test_string1)  #測試表達式是否會匹配此合法IP\n",
    "\n",
    "test_string2 = \"Test IP 999.888.777.666\"\n",
    "RegexMatchingTest(regex, test_string2)  #測試表達式是否會匹配此不合法IP"
   ]
  },
  {
   "cell_type": "markdown",
   "metadata": {},
   "source": [
    "## 訂正"
   ]
  },
  {
   "cell_type": "code",
   "execution_count": 36,
   "metadata": {},
   "outputs": [
    {
     "name": "stdout",
     "output_type": "stream",
     "text": [
      "Matched: 216.58.200.22\n",
      "  group(0): 216.58.200.22\n",
      "4\n",
      "  group(1): 216\n",
      "4\n",
      "  group(2): 58\n",
      "4\n",
      "  group(3): 200\n",
      "4\n",
      "  group(4): 22\n",
      "4\n",
      "Not matched.\n"
     ]
    }
   ],
   "source": [
    "# [01]? =>只能是0、1、無\n",
    "# \\d? => 任意數或無\n",
    "\n",
    "\n",
    "regex = '([01]?\\d?\\d|2[0-4]\\d|25[0-5])\\.([01]?\\d?\\d|2[0-4]\\d|25[0-5])\\.([01]?\\d?\\d|2[0-4]\\d|25[0-5])\\.([01]?\\d?\\d|2[0-4]\\d|25[0-5])'\n",
    "\n",
    "test_string1 = \"Test IP 216.58.200.227\"\n",
    "RegexMatchingTest(regex, test_string1)  #測試表達式是否會匹配此合法IP\n",
    "\n",
    "test_string2 = \"Test IP 999.888.777.666\"\n",
    "RegexMatchingTest(regex, test_string2)  #測試表達式是否會匹配此不合法IP"
   ]
  },
  {
   "cell_type": "markdown",
   "metadata": {},
   "source": [
    "# 用正規表達式過濾URL。\n",
    "## 我們要把\"href=\"之後的URL擷取出來，用來做後續處理。"
   ]
  },
  {
   "cell_type": "code",
   "execution_count": null,
   "metadata": {},
   "outputs": [],
   "source": [
    "html_a_tag = \"<a href=https://movies.yahoo.com.tw/movietime_result.html/id=9467> 時刻表 </a>\"\n",
    "\n",
    "regex = \n",
    "RegexMatchingTest(regex, html_a_tag)"
   ]
  },
  {
   "cell_type": "markdown",
   "metadata": {},
   "source": [
    "## 訂正"
   ]
  },
  {
   "cell_type": "code",
   "execution_count": 37,
   "metadata": {},
   "outputs": [
    {
     "name": "stdout",
     "output_type": "stream",
     "text": [
      "Matched: https://movies.yahoo.com.tw/movietime_result.html/id=9467\n",
      "  group(0): https://movies.yahoo.com.tw/movietime_result.html/id=9467\n",
      "4\n",
      "  group(1): https://\n",
      "4\n",
      "  group(2): https\n",
      "4\n",
      "  group(3): com.\n",
      "4\n",
      "  group(4): tw\n",
      "4\n"
     ]
    }
   ],
   "source": [
    "html_a_tag = \"<a href=https://movies.yahoo.com.tw/movietime_result.html/id=9467> 時刻表 </a>\"\n",
    "regex = '((http|https|ftp):\\/\\/)([a-z0-9]\\.|[a-z0-9][-a-z0-9]*[a-z0-9]\\.)+(tw|cn|com|edu|gov|net|org|biz|info|name)[-a-z0-9_:@&?=+,.!\\/~*\\'%$]*'\n",
    "RegexMatchingTest(regex, html_a_tag)\n"
   ]
  },
  {
   "cell_type": "code",
   "execution_count": 38,
   "metadata": {},
   "outputs": [
    {
     "data": {
      "text/plain": [
       "\"\\n\\n一個標準的URL形式是：http://hostname/path，我們分4段來解釋匹配URL的regex：\\n\\n1. URL都是以http://、https://、ftp://開頭，因此我們寫成：\\n(http|https|ftp):\\\\/\\\\/)  \\n\\n2. hostname的名稱是以句號區隔所組成，每一個部分可以是ASCII字元、數字、連字號，但不能以連字號開始或結束，因此我們寫成：\\n([a-z0-9]\\\\.|[a-z0-9][-a-z0-9]*[a-z0-9]\\\\.)+  \\n\\n3. hostname結尾的部分，只有幾種可能性(如果有新的名稱，可以再自己添加)，因此我們寫成：\\n(tw|cn|com|edu|gov|net|org|biz|info|name)\\n\\n4. URL的path部分，可以有除了空白字元、控制字元<>(){}以外的大部分ASCII字元，因此我們寫成：\\n[-a-z0-9_:@&?=+,.!\\\\/~*'%$]*\\n\\n之所以寫得那麼複雜的原因，是希望正規表達式能夠精準匹配我們希望匹配的，而且不要匹配我們不希望匹配的。\\n\\n\""
      ]
     },
     "execution_count": 38,
     "metadata": {},
     "output_type": "execute_result"
    }
   ],
   "source": [
    "'''\n",
    "\n",
    "一個標準的URL形式是：http://hostname/path，我們分4段來解釋匹配URL的regex：\n",
    "\n",
    "1. URL都是以http://、https://、ftp://開頭，因此我們寫成：\n",
    "(http|https|ftp):\\/\\/)  \n",
    "\n",
    "2. hostname的名稱是以句號區隔所組成，每一個部分可以是ASCII字元、數字、連字號，但不能以連字號開始或結束，因此我們寫成：\n",
    "([a-z0-9]\\.|[a-z0-9][-a-z0-9]*[a-z0-9]\\.)+  \n",
    "\n",
    "3. hostname結尾的部分，只有幾種可能性(如果有新的名稱，可以再自己添加)，因此我們寫成：\n",
    "(tw|cn|com|edu|gov|net|org|biz|info|name)\n",
    "\n",
    "4. URL的path部分，可以有除了空白字元、控制字元<>(){}以外的大部分ASCII字元，因此我們寫成：\n",
    "[-a-z0-9_:@&?=+,.!\\/~*\\'%$]*\n",
    "\n",
    "之所以寫得那麼複雜的原因，是希望正規表達式能夠精準匹配我們希望匹配的，而且不要匹配我們不希望匹配的。\n",
    "\n",
    "'''"
   ]
  },
  {
   "cell_type": "code",
   "execution_count": null,
   "metadata": {},
   "outputs": [],
   "source": []
  }
 ],
 "metadata": {
  "kernelspec": {
   "display_name": "Python 3",
   "language": "python",
   "name": "python3"
  },
  "language_info": {
   "codemirror_mode": {
    "name": "ipython",
    "version": 3
   },
   "file_extension": ".py",
   "mimetype": "text/x-python",
   "name": "python",
   "nbconvert_exporter": "python",
   "pygments_lexer": "ipython3",
   "version": "3.7.6"
  }
 },
 "nbformat": 4,
 "nbformat_minor": 4
}
