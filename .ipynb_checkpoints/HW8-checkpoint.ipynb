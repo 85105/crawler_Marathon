{
 "cells": [
  {
   "cell_type": "code",
   "execution_count": 12,
   "metadata": {},
   "outputs": [],
   "source": [
    "import requests\n",
    "# 引入函式庫\n",
    "r = requests.get('https://github.com/timeline.json')\n",
    "# 想要爬資料的目標網址\n",
    "response = r.text\n",
    "# 模擬發送請求的動作"
   ]
  },
  {
   "cell_type": "code",
   "execution_count": 13,
   "metadata": {},
   "outputs": [
    {
     "name": "stdout",
     "output_type": "stream",
     "text": [
      "<class 'str'>\n"
     ]
    }
   ],
   "source": [
    "print(type(response))"
   ]
  },
  {
   "cell_type": "code",
   "execution_count": 26,
   "metadata": {},
   "outputs": [
    {
     "name": "stdout",
     "output_type": "stream",
     "text": [
      "{\"message\":\"Hello there, wayfaring stranger. If you’re reading this then you probably didn’t see our\n",
      "{\"message\":\"Hello there, wayfaring stranger. If you’re reading this then you probably didn’t see our blog post a couple of years back announcing that this API would go away: http://git.io/17AROg Fear not, you should be able to get what you need from the shiny new Events API instead.\",\"documentation_url\":\"https://docs.github.com/v3/activity/events/#list-public-events\"}\n"
     ]
    }
   ],
   "source": [
    "print(response[:100])\n",
    "print(response)"
   ]
  },
  {
   "cell_type": "code",
   "execution_count": 31,
   "metadata": {},
   "outputs": [
    {
     "name": "stdout",
     "output_type": "stream",
     "text": [
      "<html><body><p>{\"message\":\"Hello there, wayfaring stranger. If you’re reading this then you probably didn’t see our blog post a couple of years back announcing that this API would go away: http://git.io/17AROg Fear not, you should be able to get what you need from the shiny new Events API instead.\",\"documentation_url\":\"https://docs.github.com/v3/activity/events/#list-public-events\"}</p></body></html>\n",
      "<class 'bs4.BeautifulSoup'>\n",
      "\n",
      "\n",
      "<html><head></head><body>{\"message\":\"Hello there, wayfaring stranger. If you’re reading this then you probably didn’t see our blog post a couple of years back announcing that this API would go away: http://git.io/17AROg Fear not, you should be able to get what you need from the shiny new Events API instead.\",\"documentation_url\":\"https://docs.github.com/v3/activity/events/#list-public-events\"}</body></html>\n",
      "<class 'bs4.BeautifulSoup'>\n"
     ]
    }
   ],
   "source": [
    "# lxml,html5lib => beautifulsoup的解析器\n",
    "from bs4 import BeautifulSoup\n",
    "soup = BeautifulSoup(response, \"lxml\")\n",
    "print(soup)\n",
    "print(type(soup))\n",
    "print(\"\\n\")\n",
    "from bs4 import BeautifulSoup\n",
    "soup = BeautifulSoup(response, \"html5lib\")\n",
    "print(soup)\n",
    "print(type(soup))"
   ]
  },
  {
   "cell_type": "code",
   "execution_count": null,
   "metadata": {},
   "outputs": [],
   "source": []
  },
  {
   "cell_type": "markdown",
   "metadata": {},
   "source": [
    "# HW"
   ]
  },
  {
   "cell_type": "markdown",
   "metadata": {},
   "source": [
    "#### Dcard"
   ]
  },
  {
   "cell_type": "code",
   "execution_count": 32,
   "metadata": {},
   "outputs": [],
   "source": [
    "import requests\n",
    "from bs4 import BeautifulSoup"
   ]
  },
  {
   "cell_type": "code",
   "execution_count": 37,
   "metadata": {},
   "outputs": [],
   "source": [
    "url = 'https://www.dcard.tw/f'\n",
    "r = requests.get(url)\n",
    "r.encoding = 'utf-8'\n",
    "response = r.text"
   ]
  },
  {
   "cell_type": "markdown",
   "metadata": {},
   "source": [
    "#### 1. Request 取回之後該怎麼取出資料，資料型態是什麼？\n"
   ]
  },
  {
   "cell_type": "markdown",
   "metadata": {},
   "source": [
    "##### str"
   ]
  },
  {
   "cell_type": "markdown",
   "metadata": {},
   "source": [
    "#### 2.為什麼要使用 BeatifulSoup 處理？處理後的型態是什麼？"
   ]
  },
  {
   "cell_type": "markdown",
   "metadata": {},
   "source": [
    "##### 使str轉成物件 "
   ]
  },
  {
   "cell_type": "markdown",
   "metadata": {},
   "source": [
    "### 訂正 : 處理後的型態是什麼"
   ]
  },
  {
   "cell_type": "markdown",
   "metadata": {},
   "source": [
    "#### bs4.BeautifulSoup"
   ]
  },
  {
   "cell_type": "code",
   "execution_count": null,
   "metadata": {},
   "outputs": [],
   "source": []
  },
  {
   "cell_type": "markdown",
   "metadata": {},
   "source": [
    "#### 2. 知乎： https://www.zhihu.com/explore"
   ]
  },
  {
   "cell_type": "code",
   "execution_count": 41,
   "metadata": {},
   "outputs": [
    {
     "name": "stdout",
     "output_type": "stream",
     "text": [
      "<html>\r\n",
      "<head><title>400 Bad Request</title></head>\r\n",
      "<body bgcolor=\"white\">\r\n",
      "<center><h1>400 Bad Request</h1></center>\r\n",
      "<hr><center>openresty</center>\r\n",
      "</body>\r\n",
      "</html>\r\n",
      "\n"
     ]
    }
   ],
   "source": [
    "url = (' https://www.zhihu.com/explore')\n",
    "r = requests.get(url)\n",
    "response = r.text\n",
    "print(response)"
   ]
  },
  {
   "cell_type": "code",
   "execution_count": 44,
   "metadata": {},
   "outputs": [
    {
     "name": "stdout",
     "output_type": "stream",
     "text": [
      "<!DOCTYPE html>\n",
      "<html lang=\"zh\">\n",
      "<head>\n",
      "\t<meta charset=\"UTF-8\" />\n",
      "\t<meta name=\"viewport\" content=\"width=device-width, initial-scale=1.0\" />\n",
      "\t<meta http-equiv=\"X-UA-Compatible\" content=\"ie=edge,chrome=1\" />\n",
      "\t<meta name=\"renderer\" content=\"webkit\" />\n",
      "\t<meta name=\"force-rendering\" content=\"webkit\" />\n",
      "\t<title>404 - ç¥ä¹</title>\n",
      "\t<link\n",
      "\t\t\trel=\"shortcut icon\"\n",
      "\t\t\thref=\"//static.zhihu.com/static/img/favicon.ico\"\n",
      "\t/>\n",
      "\t<style>\n",
      "\t\tbody,\n",
      "\t\th1,\n",
      "\t\tp,\n",
      "\t\tpre {\n",
      "\t\t\tmargin: 0;\n",
      "\t\t}\n",
      "\n",
      "\t\tbody {\n",
      "\t\t\tfont-family: -apple-system, BlinkMacSystemFont, \"Helvetica Neue\",\n",
      "\t\t\t\"PingFang SC\", \"Microsoft YaHei\", \"Source Han Sans SC\",\n",
      "\t\t\t\"Noto Sans CJK SC\", \"WenQuanYi Micro Hei\", sans-serif;\n",
      "\t\t}\n",
      "\n",
      "\t\ta {\n",
      "\t\t\ttext-decoration: none;\n",
      "\t\t}\n",
      "\t</style>\n",
      "\t<style>\n",
      "\t\t.Button {\n",
      "\t\t\tbackground: none;\n",
      "\t\t\tborder: none;\n",
      "\t\t\tcursor: pointer;\n",
      "\t\t\tdisplay: inline-block;\n",
      "\t\t\tfont-size: 14px;\n",
      "\t\t\tpadding: 0;\n",
      "\t\t\ttext-align: center;\n",
      "\t\t}\n",
      "\n",
      "\t\t.Button:focus {\n",
      "\t\t\toutline: none;\n",
      "\t\t\ttransition: box-shadow 0.3s;\n",
      "\t\t}\n",
      "\n",
      "\t\t/* ææ¶æ²¡æç¨ focus visiable */\n",
      "\t\t.Button:focus {\n",
      "\t\t\tbox-shadow: 0 0 0 2px #ffffff, 0 0 0 4px rgba(0, 132, 255, 0.3);\n",
      "\t\t}\n",
      "\n",
      "\t\thtml[data-theme=\"dark\"] .Button:focus {\n",
      "\t\t\tbox-shadow: 0 0 0 2px #1a1a1a, 0 0 0 4px rgba(58, 118, 208, 0.6);\n",
      "\t\t}\n",
      "\n",
      "\t\t.Button--primary {\n",
      "\t\t\tborder: 1px solid;\n",
      "\t\t\tborder-radius: 3px;\n",
      "\t\t\tline-height: 32px;\n",
      "\t\t\tpadding: 0 16px;\n",
      "\t\t}\n",
      "\n",
      "\t\t.Button--primary.Button--blue {\n",
      "\t\t\tbackground-color: #0084ff;\n",
      "\t\t\tborder-color: #0084ff;\n",
      "\t\t\tcolor: #fff;\n",
      "\t\t}\n",
      "\n",
      "\t\thtml[data-theme=\"dark\"] .Button--primary.Button--blue {\n",
      "\t\t\tbackground-color: #3a76d0;\n",
      "\t\t\tborder-color: #3a76d0;\n",
      "\t\t\tcolor: #fff;\n",
      "\t\t}\n",
      "\n",
      "\t\t.Button--primary.Button--blue:hover {\n",
      "\t\t\tbackground-color: #0077e6;\n",
      "\t\t\tborder-color: #0077e6;\n",
      "\t\t}\n",
      "\n",
      "\t\thtml[data-theme=\"dark\"] .Button--primary.Button--blue:hover {\n",
      "\t\t\tbackground-color: #2e69c2;\n",
      "\t\t\tborder-color: #2e69c2;\n",
      "\t\t}\n",
      "\n",
      "\t\t.Button--plain.Button--blue {\n",
      "\t\t\tcolor: #0084ff;\n",
      "\t\t}\n",
      "\n",
      "\t\thtml[data-theme=\"dark\"] .Button--plain.Button--blue {\n",
      "\t\t\tcolor: #3a76d0;\n",
      "\t\t}\n",
      "\n",
      "\t\t.Button--plain.Button--blue:hover {\n",
      "\t\t\tcolor: #0077e6;\n",
      "\t\t}\n",
      "\n",
      "\t\thtml[data-theme=\"dark\"] .Button--plain.Button--blue:hover {\n",
      "\t\t\tcolor: #2e69c2;\n",
      "\t\t}\n",
      "\t</style>\n",
      "\t<style>\n",
      "\t\tbody {\n",
      "\t\t\t/* cc(GBK99A) */\n",
      "\t\t\tbackground: #fff;\n",
      "\t\t}\n",
      "\n",
      "\t\thtml[data-theme=\"dark\"] body {\n",
      "\t\t\tbackground: #1a1a1a;\n",
      "\t\t}\n",
      "\n",
      "\t\t.ErrorPage-container {\n",
      "\t\t\tdisplay: flex;\n",
      "\t\t\tjustify-content: center;\n",
      "\t\t\tmargin-top: 180px;\n",
      "\t\t}\n",
      "\n",
      "\t\t@media (max-width: 690px) {\n",
      "\t\t\t.ErrorPage-container {\n",
      "\t\t\t\talign-items: center;\n",
      "\t\t\t\tflex-direction: column-reverse;\n",
      "\t\t\t\tmargin-top: 60px;\n",
      "\t\t\t}\n",
      "\t\t}\n",
      "\n",
      "\t\t.ErrorPage-title,\n",
      "\t\t.ErrorPage-subtitle {\n",
      "\t\t\t/* cc(GBK04A) */\n",
      "\t\t\tcolor: #646464;\n",
      "\t\t\tline-height: 1.4;\n",
      "\t\t}\n",
      "\n",
      "\t\thtml[data-theme=\"dark\"] .ErrorPage-title,\n",
      "\t\thtml[data-theme=\"dark\"] .ErrorPage-subtitle {\n",
      "\t\t\tcolor: #999;\n",
      "\t\t}\n",
      "\n",
      "\t\t.ErrorPage-title {\n",
      "\t\t\tfont-size: 40px;\n",
      "\n",
      "\t\t\t/* @mixin bold; */\n",
      "\t\t\tfont-synthesis: style;\n",
      "\t\t\tfont-weight: 600;\n",
      "\t\t}\n",
      "\n",
      "\t\thtml[data-ios] .ErrorPage-title {\n",
      "\t\t\tfont-weight: 500;\n",
      "\t\t}\n",
      "\n",
      "\t\thtml[data-android] .ErrorPage-title {\n",
      "\t\t\tfont-weight: 700;\n",
      "\t\t}\n",
      "\n",
      "\t\t@media (max-width: 690px) {\n",
      "\t\t\t.ErrorPage-title {\n",
      "\t\t\t\tfont-size: 30px;\n",
      "\t\t\t}\n",
      "\t\t}\n",
      "\n",
      "\t\t.ErrorPage-subtitle {\n",
      "\t\t\tfont-size: 18px;\n",
      "\t\t\tmargin-top: 10px;\n",
      "\t\t}\n",
      "\n",
      "\t\t.ErrorPage-text {\n",
      "\t\t\talign-items: flex-start;\n",
      "\t\t\tdisplay: flex;\n",
      "\t\t\tflex-direction: column;\n",
      "\t\t\tjustify-content: center;\n",
      "\t\t\tmin-width: 384px;\n",
      "\t\t}\n",
      "\n",
      "\t\t@media (max-width: 690px) {\n",
      "\t\t\t.ErrorPage-text {\n",
      "\t\t\t\talign-items: center;\n",
      "\t\t\t\tmin-width: auto;\n",
      "\t\t\t}\n",
      "\t\t}\n",
      "\n",
      "\t\t.ErrorPage-primaryButton {\n",
      "\t\t\tmargin-top: 20px;\n",
      "\t\t}\n",
      "\n",
      "\t\t.ErrorPage-otherButtonContainer {\n",
      "\t\t\talign-items: center;\n",
      "\t\t\t/* cc(GBL01A) */\n",
      "\t\t\tcolor: #0084ff;\n",
      "\t\t\tdisplay: flex;\n",
      "\t\t\tfont-size: 14px;\n",
      "\t\t\tmargin-top: 20px;\n",
      "\n",
      "\t\t\t/* @mixin bold; */\n",
      "\t\t\tfont-synthesis: style;\n",
      "\t\t\tfont-weight: 600;\n",
      "\t\t}\n",
      "\n",
      "\t\thtml[data-theme=\"dark\"] .ErrorPage-otherButtonContainer {\n",
      "\t\t\tcolor: #3a76d0;\n",
      "\t\t}\n",
      "\n",
      "\t\thtml[data-ios] .ErrorPage-otherButtonContainer {\n",
      "\t\t\tfont-weight: 500;\n",
      "\t\t}\n",
      "\n",
      "\t\thtml[data-android] .ErrorPage-otherButtonContainer {\n",
      "\t\t\tfont-weight: 700;\n",
      "\t\t}\n",
      "\n",
      "\t\t.ErrorPage-otherButton {\n",
      "\t\t\talign-items: center;\n",
      "\t\t\tdisplay: flex;\n",
      "\t\t\tmargin-left: 0.5em;\n",
      "\n",
      "\t\t\t/* @mixin bold; */\n",
      "\t\t\tfont-synthesis: style;\n",
      "\t\t\tfont-weight: 600;\n",
      "\t\t}\n",
      "\n",
      "\t\thtml[data-ios] .ErrorPage-otherButton {\n",
      "\t\t\tfont-weight: 500;\n",
      "\t\t}\n",
      "\n",
      "\t\thtml[data-android] .ErrorPage-otherButton {\n",
      "\t\t\tfont-weight: 700;\n",
      "\t\t}\n",
      "\n",
      "\t\t.ErrorPage-errorImageContainer {\n",
      "\t\t\talign-items: center;\n",
      "\t\t\tdisplay: flex;\n",
      "\t\t\theight: 250px;\n",
      "\t\t\tjustify-content: center;\n",
      "\t\t\tmargin-left: 20px;\n",
      "\t\t\twidth: 250px;\n",
      "\t\t}\n",
      "\n",
      "\t\t@media (max-width: 690px) {\n",
      "\t\t\t.ErrorPage-errorImageContainer {\n",
      "\t\t\t\tmargin-left: 0;\n",
      "\t\t\t}\n",
      "\t\t}\n",
      "\t</style>\n",
      "</head>\n",
      "<body>\n",
      "<div class=\"ErrorPage\">\n",
      "\t<div class=\"ErrorPage-container\">\n",
      "\t\t<div class=\"ErrorPage-text\">\n",
      "\t\t\t<h1 class=\"ErrorPage-title\">404</h1>\n",
      "\t\t\t<p class=\"ErrorPage-subtitle\">ä½ ä¼¼ä¹æ¥å°äºæ²¡æç¥è¯å­å¨çèå</p>\n",
      "\t\t\t<a\n",
      "\t\t\t\t\tclass=\"Button Button--primary Button--blue ErrorPage-primaryButton\"\n",
      "\t\t\t\t\thref=\"https://www.zhihu.com\"\n",
      "\t\t\t>\n",
      "\t\t\t\tå»å¾é¦é¡µ\n",
      "\t\t\t</a>\n",
      "\t\t\t<div class=\"ErrorPage-otherButtonContainer\">\n",
      "\t\t\t\tæè",
      "\n",
      "\t\t\t\t<button\n",
      "\t\t\t\t\t\tclass=\"Button Button--plain Button--blue ErrorPage-otherButton ErrorPage-goBackButton\"\n",
      "\t\t\t\t>\n",
      "\t\t\t\t\tè¿åä¸é¡µ\n",
      "\t\t\t\t\t<svg\n",
      "\t\t\t\t\t\t\tclass=\"Zi Zi--ArrowRight\"\n",
      "\t\t\t\t\t\t\tfill=\"currentColor\"\n",
      "\t\t\t\t\t\t\tviewBox=\"0 0 24 24\"\n",
      "\t\t\t\t\t\t\twidth=\"24px\"\n",
      "\t\t\t\t\t\t\theight=\"24px\"\n",
      "\t\t\t\t\t>\n",
      "\t\t\t\t\t\t<path\n",
      "\t\t\t\t\t\t\t\td=\"M9.218 16.78a.737.737 0 0 0 1.052 0l4.512-4.249a.758.758 0 0 0 0-1.063L10.27 7.22a.737.737 0 0 0-1.052 0 .759.759 0 0 0-.001 1.063L13 12l-3.782 3.716a.758.758 0 0 0 0 1.063z\"\n",
      "\t\t\t\t\t\t\t\tfill-rule=\"evenodd\"\n",
      "\t\t\t\t\t\t></path>\n",
      "\t\t\t\t\t</svg>\n",
      "\t\t\t\t</button>\n",
      "\t\t\t</div>\n",
      "\t\t</div>\n",
      "\t\t<div class=\"ErrorPage-errorImageContainer\">\n",
      "\t\t\t<img\n",
      "\t\t\t\t\tclass=\"ErrorPage-errorImage\"\n",
      "\t\t\t\t\tsrc=\"//zhstatic.zhihu.com/assets/error/liukanshan_wire.svg\"\n",
      "\t\t\t\t\talt=\"page error\"\n",
      "\t\t\t/>\n",
      "\t\t</div>\n",
      "\t</div>\n",
      "</div>\n",
      "<script\n",
      "\t\tasync\n",
      "\t\tsrc=\"//unpkg.zhimg.com/za-js-sdk@latest/dist/zap.js\"\n",
      "\t\tonload=\"zap.trackPageShow()\"\n",
      "></script>\n",
      "<script>\n",
      "    // https://stackoverflow.com/a/15724300\n",
      "    function getCookie(name) {\n",
      "        let value = \"; \" + document.cookie;\n",
      "        let parts = value.split(\"; \" + name + \"=\");\n",
      "        if (parts.length == 2) {\n",
      "            return parts\n",
      "                .pop()\n",
      "                .split(\";\")\n",
      "                .shift();\n",
      "        }\n",
      "        return null;\n",
      "    }\n",
      "\n",
      "    if (navigator.userAgent.match(/iPhone|iPad|iPod/)) {\n",
      "        document.documentElement.dataset.ios = \"\";\n",
      "    }\n",
      "\n",
      "    if (navigator.userAgent.match(/Android/)) {\n",
      "        document.documentElement.dataset.android = \"\";\n",
      "    }\n",
      "\n",
      "    let queryTheme;\n",
      "    if (typeof URLSearchParams !== \"undefined\") {\n",
      "        // è¿éä¸å¯ç¨æ ¹æ® query ç­è®¾ç½® cookie çåè½è¿ç§å¤æé»è¾\n",
      "        const params = new URLSearchParams(window.location.search);\n",
      "        queryTheme = params.get(\"theme\");\n",
      "    }\n",
      "    const cookieTheme = getCookie(\"theme\");\n",
      "    const theme = queryTheme || cookieTheme || \"light\";\n",
      "    document.documentElement.dataset.theme = theme;\n",
      "\n",
      "    const goBackButton = document.querySelector(\".ErrorPage-goBackButton\");\n",
      "    goBackButton.addEventListener(\"click\", function(e) {\n",
      "        history.go(-1);\n",
      "    });\n",
      "</script>\n",
      "</body>\n",
      "</html>\n",
      "\n",
      "\n"
     ]
    }
   ],
   "source": [
    "from fake_useragent import UserAgent\n",
    "ua = UserAgent()\n",
    "header = {'user-agent' : ua.random}\n",
    "r = requests.get(url, headers = header)\n",
    "response = r.text\n",
    "print(response)"
   ]
  },
  {
   "cell_type": "code",
   "execution_count": null,
   "metadata": {},
   "outputs": [],
   "source": []
  }
 ],
 "metadata": {
  "kernelspec": {
   "display_name": "Python 3",
   "language": "python",
   "name": "python3"
  },
  "language_info": {
   "codemirror_mode": {
    "name": "ipython",
    "version": 3
   },
   "file_extension": ".py",
   "mimetype": "text/x-python",
   "name": "python",
   "nbconvert_exporter": "python",
   "pygments_lexer": "ipython3",
   "version": "3.7.6"
  }
 },
 "nbformat": 4,
 "nbformat_minor": 4
}
