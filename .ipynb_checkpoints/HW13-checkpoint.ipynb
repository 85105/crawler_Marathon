{
 "cells": [
  {
   "cell_type": "code",
   "execution_count": 5,
   "metadata": {},
   "outputs": [
    {
     "name": "stdout",
     "output_type": "stream",
     "text": [
      "[情報] 字母哥因腳踝傷勢明日出戰成疑 \n",
      "作者: sezna (sezna)\n",
      "[BOX ] Raptors 100:93 Celtics\n",
      "[公告] 板規v6.8\n",
      "[公告] 第一次被退文，可在三天後刪除退文\n",
      "作者: Vedan (味丹)\n",
      "[公告] 8/15實施季後賽條款 以及提醒事項(發P) \n",
      "作者: namie810303 (爽喔!! 你看看你)\n",
      "[情報] Playoffs Schedule 19–20\n",
      "作者: Acetoxy (阿斯)\n"
     ]
    }
   ],
   "source": [
    "import requests\n",
    "from bs4 import BeautifulSoup\n",
    "\n",
    "url = 'https://www.ptt.cc/bbs/NBA/index.html'\n",
    "r = requests.get(url)\n",
    "\n",
    "soup = BeautifulSoup(r.text, \"html5lib\")\n",
    "\n",
    "for d in soup.find_all(class_=\"title\"):\n",
    "    print(d.text.replace('\\t', '').replace('\\n', ''))\n",
    "    try:\n",
    "        r = BeautifulSoup(requests.get('https://www.ptt.cc'+d.find('a')['href']).text, \"html5lib\")\n",
    "        print('作者: ' + r.find(class_='article-meta-value').text)\n",
    "    except:\n",
    "        continue"
   ]
  },
  {
   "cell_type": "code",
   "execution_count": null,
   "metadata": {},
   "outputs": [],
   "source": []
  },
  {
   "cell_type": "markdown",
   "metadata": {},
   "source": [
    "# HW\n",
    "## ① 印出最新文章的「作者」「標題」「時間」"
   ]
  },
  {
   "cell_type": "code",
   "execution_count": 45,
   "metadata": {
    "scrolled": true
   },
   "outputs": [
    {
     "name": "stdout",
     "output_type": "stream",
     "text": [
      "[情報] 字母哥因腳踝傷勢明日出戰成疑 \n",
      "時間： Sun Sep  6 08:44:55 2020\n",
      "[BOX ] Raptors 100:93 Celtics\n",
      "[情報] 不適應?AD在上場比賽中打五號位時的正負\n",
      "時間： Sun Sep  6 09:36:57 2020\n",
      "[花邊] 尼克記者：若保羅加盟，那甜瓜回尼克可能\n",
      "時間： Sun Sep  6 09:42:03 2020\n",
      "[公告] 板規v6.8\n",
      "[公告] 第一次被退文，可在三天後刪除退文\n",
      "時間： Mon Mar  9 11:44:26 2020\n",
      "[公告] 8/15實施季後賽條款 以及提醒事項(發P) \n",
      "時間： Thu Aug 13 23:21:08 2020\n",
      "[情報] Playoffs Schedule 19–20\n",
      "時間： Tue Aug 18 04:10:40 2020\n"
     ]
    }
   ],
   "source": [
    "import requests\n",
    "from bs4 import BeautifulSoup\n",
    "\n",
    "url = 'https://www.ptt.cc/bbs/NBA/index.html'\n",
    "r = requests.get(url)\n",
    "\n",
    "soup = BeautifulSoup(r.text, \"html5lib\")\n",
    "\n",
    "for d in soup.find_all(class_=\"title\"):\n",
    "    print(d.text.replace('\\t', '').replace('\\n', ''))\n",
    "    try:\n",
    "        r = BeautifulSoup(requests.get('https://www.ptt.cc'+d.find('a')['href']).text, \"html5lib\")\n",
    "        print('時間： ' + r.find_all(class_='article-meta-value')[-1].text)\n",
    "    except:\n",
    "        continue"
   ]
  },
  {
   "cell_type": "code",
   "execution_count": 41,
   "metadata": {},
   "outputs": [
    {
     "name": "stdout",
     "output_type": "stream",
     "text": [
      "標題：  [情報] 字母哥因腳踝傷勢明日出戰成疑 \n",
      "作者：  sezna\n",
      "時間：   9/06\n",
      "標題：  [BOX ] Raptors 100:93 Celtics\n",
      "作者：  Rambo\n",
      "時間：   9/06\n",
      "標題：  [情報] 不適應?AD在上場比賽中打五號位時的正負\n",
      "作者：  fack3170\n",
      "時間：   9/06\n",
      "標題：  [花邊] 尼克記者：若保羅加盟，那甜瓜回尼克可能\n",
      "作者：  wwf1588\n",
      "時間：   9/06\n",
      "標題：  [公告] 板規v6.8\n",
      "作者：  Vedan\n",
      "時間：   5/24\n",
      "標題：  [公告] 第一次被退文，可在三天後刪除退文\n",
      "作者：  Vedan\n",
      "時間：   3/09\n",
      "標題：  [公告] 8/15實施季後賽條款 以及提醒事項(發P) \n",
      "作者：  namie810303\n",
      "時間：   8/13\n",
      "標題：  [情報] Playoffs Schedule 19–20\n",
      "作者：  Acetoxy\n",
      "時間：   8/18\n"
     ]
    }
   ],
   "source": [
    "import requests\n",
    "from bs4 import BeautifulSoup\n",
    "\n",
    "url = 'https://www.ptt.cc/bbs/NBA/index.html'\n",
    "r = requests.get(url)\n",
    "\n",
    "soup = BeautifulSoup(r.text, \"html5lib\")\n",
    "for d in soup.find_all(class_=\"r-ent\"):\n",
    "    print('標題： ', d.find(class_='title').text.replace('\\t', '').replace('\\n', ''))\n",
    "    print('作者： ', d.find(class_='author').text.replace('\\t', '').replace('\\n', ''))\n",
    "    print('時間： ', d.find(class_='date').text.replace('\\t', '').replace('\\n', ''))"
   ]
  },
  {
   "cell_type": "code",
   "execution_count": 69,
   "metadata": {},
   "outputs": [
    {
     "name": "stdout",
     "output_type": "stream",
     "text": [
      "[情報] 字母哥因腳踝傷勢明日出戰成疑 \n",
      "時間： Sun Sep  6 08:44:55 2020\n",
      "[BOX ] Raptors 100:93 Celtics\n",
      "[情報] 不適應?AD在上場比賽中打五號位時的正負\n",
      "時間： Sun Sep  6 09:36:57 2020\n",
      "[花邊] 尼克記者：若保羅加盟，那甜瓜回尼克可能\n",
      "時間： Sun Sep  6 09:42:03 2020\n",
      "[公告] 板規v6.8\n",
      "[公告] 第一次被退文，可在三天後刪除退文\n",
      "時間： Mon Mar  9 11:44:26 2020\n",
      "[公告] 8/15實施季後賽條款 以及提醒事項(發P) \n",
      "時間： Thu Aug 13 23:21:08 2020\n",
      "[情報] Playoffs Schedule 19–20\n",
      "時間： Tue Aug 18 04:10:40 2020\n",
      "defaultdict(<class 'list'>, {'標題': '[情報] Playoffs Schedule 19–20'})\n"
     ]
    }
   ],
   "source": [
    "#進內頁抓時間\n",
    "import requests\n",
    "from bs4 import BeautifulSoup\n",
    "\n",
    "url = 'https://www.ptt.cc/bbs/NBA/index.html'\n",
    "r = requests.get(url)\n",
    "\n",
    "soup = BeautifulSoup(r.text, \"html5lib\")\n",
    "\n",
    "for d in soup.find_all(class_=\"title\"):\n",
    "    print(d.text.replace('\\t', '').replace('\\n', ''))\n",
    "    try:\n",
    "        r = BeautifulSoup(requests.get('https://www.ptt.cc'+d.find('a')['href']).text, \"html5lib\")\n",
    "        print('時間： ' + r.find_all(class_='article-meta-value')[-1].text)\n",
    "    except:\n",
    "        continue\n",
    "print(post)"
   ]
  },
  {
   "cell_type": "code",
   "execution_count": 75,
   "metadata": {},
   "outputs": [
    {
     "data": {
      "text/plain": [
       "{'標題': '[情報] Playoffs Schedule 19–20',\n",
       " '作者': 'Acetoxy (阿斯)',\n",
       " '時間': 'Tue Aug 18 04:10:40 2020'}"
      ]
     },
     "execution_count": 75,
     "metadata": {},
     "output_type": "execute_result"
    }
   ],
   "source": [
    "# 因為原始的資料難以判斷「新/舊」，因此我們必須進入內頁抓取詳細的時間，最終存成 List of Dict 的形式再自行排序。\n",
    "\n",
    "posts = []\n",
    "\n",
    "for d in soup.find_all(class_=\"title\"):\n",
    "    try:\n",
    "        post = {}\n",
    "        post['標題'] = d.text.replace('\\t', '').replace('\\n', '')\n",
    "        \n",
    "        r = BeautifulSoup(requests.get('https://www.ptt.cc'+d.find('a')['href']).text, \"html5lib\")\n",
    "        post['作者'] = r.find(class_='article-meta-value').text\n",
    "        post['時間'] = r.find_all(class_='article-meta-value')[-1].text\n",
    "        \n",
    "        posts.append(post)\n",
    "    except:\n",
    "        continue\n",
    "        \n",
    "posts = sorted(posts, key= lambda x: x['時間'])\n",
    "# 補充：List of Dict 的排序方法\n",
    "# https://stackoverflow.com/questions/72899/how-do-i-sort-a-list-of-dictionaries-by-a-value-of-the-dictionary\n",
    "posts[-1]"
   ]
  },
  {
   "cell_type": "code",
   "execution_count": null,
   "metadata": {},
   "outputs": [],
   "source": []
  }
 ],
 "metadata": {
  "kernelspec": {
   "display_name": "Python 3",
   "language": "python",
   "name": "python3"
  },
  "language_info": {
   "codemirror_mode": {
    "name": "ipython",
    "version": 3
   },
   "file_extension": ".py",
   "mimetype": "text/x-python",
   "name": "python",
   "nbconvert_exporter": "python",
   "pygments_lexer": "ipython3",
   "version": "3.7.6"
  }
 },
 "nbformat": 4,
 "nbformat_minor": 4
}
