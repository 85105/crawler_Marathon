{
 "cells": [
  {
   "cell_type": "code",
   "execution_count": 5,
   "metadata": {},
   "outputs": [
    {
     "name": "stdout",
     "output_type": "stream",
     "text": [
      "[情報] 字母哥因腳踝傷勢明日出戰成疑 \n",
      "作者: sezna (sezna)\n",
      "[BOX ] Raptors 100:93 Celtics\n",
      "[公告] 板規v6.8\n",
      "[公告] 第一次被退文，可在三天後刪除退文\n",
      "作者: Vedan (味丹)\n",
      "[公告] 8/15實施季後賽條款 以及提醒事項(發P) \n",
      "作者: namie810303 (爽喔!! 你看看你)\n",
      "[情報] Playoffs Schedule 19–20\n",
      "作者: Acetoxy (阿斯)\n"
     ]
    }
   ],
   "source": [
    "import requests\n",
    "from bs4 import BeautifulSoup\n",
    "\n",
    "url = 'https://www.ptt.cc/bbs/NBA/index.html'\n",
    "r = requests.get(url)\n",
    "\n",
    "soup = BeautifulSoup(r.text, \"html5lib\")\n",
    "\n",
    "for d in soup.find_all(class_=\"title\"):\n",
    "    print(d.text.replace('\\t', '').replace('\\n', ''))\n",
    "    try:\n",
    "        r = BeautifulSoup(requests.get('https://www.ptt.cc'+d.find('a')['href']).text, \"html5lib\")\n",
    "        print('作者: ' + r.find(class_='article-meta-value').text)\n",
    "    except:\n",
    "        continue"
   ]
  },
  {
   "cell_type": "code",
   "execution_count": null,
   "metadata": {},
   "outputs": [],
   "source": []
  },
  {
   "cell_type": "markdown",
   "metadata": {},
   "source": [
    "# HW\n",
    "## ① 印出最新文章的「作者」「標題」「時間」"
   ]
  },
  {
   "cell_type": "code",
   "execution_count": 31,
   "metadata": {
    "scrolled": true
   },
   "outputs": [
    {
     "name": "stdout",
     "output_type": "stream",
     "text": [
      "[情報] 字母哥因腳踝傷勢明日出戰成疑 \n",
      "sezna (sezna)\n",
      "[情報] 字母哥因腳踝傷勢明日出戰成疑 \n",
      "Sun Sep  6 08:44:55 2020\n",
      "[BOX ] Raptors 100:93 Celtics\n",
      "[情報] 不適應?AD在上場比賽中打五號位時的正負\n",
      "fack3170 (法克)\n",
      "[情報] 不適應?AD在上場比賽中打五號位時的正負\n",
      "Sun Sep  6 09:36:57 2020\n",
      "[花邊] 尼克記者：若保羅加盟，那甜瓜回尼克可能\n",
      "wwf1588 (s-n-imn)\n",
      "[花邊] 尼克記者：若保羅加盟，那甜瓜回尼克可能\n",
      "Sun Sep  6 09:42:03 2020\n",
      "[公告] 板規v6.8\n",
      "[公告] 第一次被退文，可在三天後刪除退文\n",
      "Vedan (味丹)\n",
      "[公告] 第一次被退文，可在三天後刪除退文\n",
      "Mon Mar  9 11:44:26 2020\n",
      "[公告] 8/15實施季後賽條款 以及提醒事項(發P) \n",
      "namie810303 (爽喔!! 你看看你)\n",
      "[公告] 8/15實施季賽條款 以及提醒事項\n",
      "Thu Aug 13 23:21:08 2020\n",
      "[情報] Playoffs Schedule 19–20\n",
      "Acetoxy (阿斯)\n",
      "[情報] Playoffs Schedule 19–20\n",
      "Tue Aug 18 04:10:40 2020\n"
     ]
    }
   ],
   "source": [
    "import requests\n",
    "from bs4 import BeautifulSoup\n",
    "\n",
    "url = 'https://www.ptt.cc/bbs/NBA/index.html'\n",
    "r = requests.get(url)\n",
    "\n",
    "soup = BeautifulSoup(r.text, \"html5lib\")\n",
    "\n",
    "for d in soup.find_all(class_=\"title\"):\n",
    "    print(d.text.replace('\\t', '').replace('\\n', ''))\n",
    "    try:\n",
    "        r = BeautifulSoup(requests.get('https://www.ptt.cc'+d.find('a')['href']).text, \"html5lib\")\n",
    "        for i in r.find(class_ = 'bbs-screen bbs-content').find_all(class_=\"article-metaline\"):\n",
    "            print(i.find(class_=\"article-meta-value\").text)\n",
    "    except:\n",
    "        continue"
   ]
  },
  {
   "cell_type": "code",
   "execution_count": null,
   "metadata": {},
   "outputs": [],
   "source": []
  }
 ],
 "metadata": {
  "kernelspec": {
   "display_name": "Python 3",
   "language": "python",
   "name": "python3"
  },
  "language_info": {
   "codemirror_mode": {
    "name": "ipython",
    "version": 3
   },
   "file_extension": ".py",
   "mimetype": "text/x-python",
   "name": "python",
   "nbconvert_exporter": "python",
   "pygments_lexer": "ipython3",
   "version": "3.7.6"
  }
 },
 "nbformat": 4,
 "nbformat_minor": 4
}
